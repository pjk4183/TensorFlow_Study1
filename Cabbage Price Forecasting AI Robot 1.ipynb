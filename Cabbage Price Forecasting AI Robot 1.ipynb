{
 "cells": [
  {
   "cell_type": "code",
   "execution_count": 2,
   "metadata": {},
   "outputs": [
    {
     "name": "stdout",
     "output_type": "stream",
     "text": [
      "# 0  cost:  12400246.0\n",
      "-Cabbage Price:  [-18.606802]\n",
      "# 20000  cost:  2271519.5\n",
      "-Cabbage Price:  [2550.039]\n",
      "# 40000  cost:  2260140.5\n",
      "-Cabbage Price:  [2580.6655]\n",
      "# 60000  cost:  2249297.8\n",
      "-Cabbage Price:  [2582.2505]\n",
      "# 80000  cost:  2238766.8\n",
      "-Cabbage Price:  [2583.6035]\n",
      "# 100000  cost:  2228522.0\n",
      "-Cabbage Price:  [2584.6062]\n"
     ]
    }
   ],
   "source": [
    "import tensorflow.compat.v1 as tf\n",
    "tf.disable_v2_behavior()\n",
    "\n",
    "import numpy as np\n",
    "from pandas.io.parsers import read_csv\n",
    "\n",
    "#다변형 선형회귀를 활용한 배추 가격 예측 AI 개발\n",
    "#날씨와 배추 가격의 상관관계\n",
    "\n",
    "model = tf.global_variables_initializer() #model 변수 초기화\n",
    "\n",
    "data = read_csv('price data.csv', sep=',')\n",
    "\n",
    "xy = np.array(data, dtype=np.float32)\n",
    "\n",
    "#다변인 선형회귀 \n",
    "x_data = xy[:, 1:-1] #2번째부터 가장 오른쪽 열을 제외한 열까지\n",
    "y_data = xy[:, [-1]] #가장 오른쪽 열\n",
    "X = tf.placeholder(tf.float32, shape=[None, 4])\n",
    "Y = tf.placeholder(tf.float32, shape=[None, 1])\n",
    "W = tf.Variable(tf.random_normal([4,1]), name=\"weight\")\n",
    "b = tf.Variable(tf.random_normal([1]), name=\"bias\")\n",
    "\n",
    "hypothesis = tf.matmul(X,W)  + b\n",
    "cost = tf.reduce_mean(tf.square(hypothesis - Y))\n",
    "optimizer = tf.train.GradientDescentOptimizer(learning_rate = 0.000005) #학습률은 본인이 원하는 정보에 따라 변경\n",
    "train = optimizer.minimize(cost)\n",
    "sess = tf.Session()\n",
    "sess.run(tf.global_variables_initializer())\n",
    "for step in range(100001): #10만개의 학습\n",
    "    cost_, hypo_, _ = sess.run([cost, hypothesis, train], feed_dict={X: x_data, Y: y_data})\n",
    "    if step % 20000 == 0:\n",
    "        print(\"#\", step, \" cost: \", cost_)\n",
    "        print(\"-Cabbage Price: \", hypo_[0])\n",
    "\n"
   ]
  },
  {
   "cell_type": "code",
   "execution_count": null,
   "metadata": {},
   "outputs": [],
   "source": [
    "#학습된 모델을 따로 저장 (매번 학습을 하면 시간소요가 발생하기 때문에)\n",
    "saver = tf.train.Saver()\n",
    "save_path = saver.save(sess, \"./saved.cpkt\")\n",
    "\n",
    "print(\"The Learning Model has been saved.\")"
   ]
  },
  {
   "cell_type": "code",
   "execution_count": null,
   "metadata": {},
   "outputs": [],
   "source": [
    "import tensorflow.compat.v1 as tf\n",
    "tf.disable_v2_behavior()\n",
    "\n",
    "import numpy as np\n",
    "\n",
    "X = tf.placeholder(tf.float32, shape=[None, 4])\n",
    "Y = tf.placeholder(tf.float32, shape=[None, 1])\n",
    "W = tf.Variable(tf.random_normal([4,1]), name=\"weight\")\n",
    "b = tf.Variable(tf.random_normal([1]), name=\"bias\")\n",
    "\n",
    "hypothesis = tf.matmul(X,W)  + b\n",
    "\n",
    "saver = tf.train.Saver() #저장된 모델을 초기화\n",
    "model = tf.global_variables_initializer()\n",
    "\n",
    "#user input\n",
    "avg_temp = float(input('평균 온도: '))\n",
    "min_temp = float(input('최저 온도: '))\n",
    "max_temp = float(input('최고 온도: '))\n",
    "rain_fall = float(input('강수량: '))\n",
    "\n",
    "with tf.Session() as sess: \n",
    "    sess.run(model) #모델에 적용한 값을 출력\n",
    "    \n",
    "    save_path = \"./saved.cpkt\" #저장된 학습 모델\n",
    "    saver.restore(sess, save_path) #해당 session에 저장된 학습 모델을 불러옴\n",
    "    \n",
    "    data = ((avg_temp, min_temp, max_temp, rain_fall),) #user input을 이용하여 2차원 배열을 생성\n",
    "    arr = np.array(data, dtype=np.float32) \n",
    "    \n",
    "    x_data = arr[0:4]\n",
    "    dict = sess.run(hypothesis, feed_dict={X: x_data})\n",
    "    print(dict[0])"
   ]
  },
  {
   "cell_type": "code",
   "execution_count": null,
   "metadata": {},
   "outputs": [],
   "source": []
  }
 ],
 "metadata": {
  "kernelspec": {
   "display_name": "Python 3",
   "language": "python",
   "name": "python3"
  },
  "language_info": {
   "codemirror_mode": {
    "name": "ipython",
    "version": 3
   },
   "file_extension": ".py",
   "mimetype": "text/x-python",
   "name": "python",
   "nbconvert_exporter": "python",
   "pygments_lexer": "ipython3",
   "version": "3.8.3"
  }
 },
 "nbformat": 4,
 "nbformat_minor": 4
}
